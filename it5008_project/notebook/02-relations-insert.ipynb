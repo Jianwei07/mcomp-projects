{
 "cells": [
  {
   "cell_type": "code",
   "execution_count": 1,
   "id": "a4daace1",
   "metadata": {},
   "outputs": [],
   "source": [
    "import pandas as pd\n",
    "from pathlib import Path\n",
    "from collections import OrderedDict\n",
    "\n",
    "# Set file paths for input CSVs and output SQL\n",
    "CSV_DIR = Path('/home/jianwei07/dev/mcomp-projects/it5008_project/doc')  # Assumes CSVs are in the same directory\n",
    "OUTPUT_SQL_FILE = 'data_draft.sql'"
   ]
  },
  {
   "cell_type": "code",
   "execution_count": 2,
   "id": "28856f56",
   "metadata": {},
   "outputs": [],
   "source": [
    "def sql_quote(val):\n",
    "    \"\"\"Formats a value for an SQL string, handling NULLs and escaping quotes.\"\"\"\n",
    "    if pd.isna(val) or val is None or str(val).strip() == '':\n",
    "        return 'NULL'\n",
    "    s = str(val).replace(\"'\", \"''\")\n",
    "    return f\"'{s}'\"\n",
    "\n",
    "def format_values(row, columns):\n",
    "    \"\"\"Formats a list of values from a DataFrame row for an SQL INSERT statement.\"\"\"\n",
    "    return ', '.join([sql_quote(row[col]) for col in columns])\n"
   ]
  },
  {
   "cell_type": "code",
   "execution_count": 3,
   "id": "8be483cc",
   "metadata": {},
   "outputs": [
    {
     "name": "stdout",
     "output_type": "stream",
     "text": [
      "Reading CSV files...\n",
      "All CSV files have been read successfully.\n"
     ]
    }
   ],
   "source": [
    "print(\"Reading CSV files...\")\n",
    "menu_df = pd.read_csv(CSV_DIR / 'menu.csv')\n",
    "# registration_df = pd.read_csv(CSV_DIR / 'registration.csv')\n",
    "staff_df = pd.read_csv(CSV_DIR / 'staff.csv')\n",
    "# orders_df = pd.read_csv(CSV_DIR / 'orders.csv')\n",
    "print(\"All CSV files have been read successfully.\")"
   ]
  },
  {
   "cell_type": "code",
   "execution_count": 4,
   "id": "0aafc12d",
   "metadata": {},
   "outputs": [
    {
     "name": "stdout",
     "output_type": "stream",
     "text": [
      "Generating INSERT statements...\n"
     ]
    }
   ],
   "source": [
    "print(\"Generating INSERT statements...\")\n",
    "\n",
    "# Dictionary to hold all generated INSERT statements\n",
    "inserts = OrderedDict()\n",
    "\n",
    "# --- 4.1. Cuisines --- \n",
    "cuisines_from_menu = menu_df['Cuisine'].unique()\n",
    "cuisines_from_staff = staff_df['Cuisine'].unique()\n",
    "all_cuisines = pd.Series(pd.concat([pd.Series(cuisines_from_menu), pd.Series(cuisines_from_staff)])).unique()\n",
    "cuisines_df = pd.DataFrame(all_cuisines, columns=['cuisine_name'])\n",
    "inserts['cuisines'] = [f\"INSERT INTO cuisines (cuisine_name) VALUES ({sql_quote(row['cuisine_name'])});\" for _, row in cuisines_df.iterrows()]\n",
    "\n",
    "# --- 4.2. Menu --- \n",
    "# The menu table now only contains item and price, the cuisine is handled by menu_belongs_to\n",
    "menu_df_clean = menu_df[['Item', 'Price']].copy().drop_duplicates(subset=['Item'])\n",
    "menu_df_clean = menu_df_clean.rename(columns={'Item': 'item', 'Price': 'price'})\n",
    "inserts['menu'] = [f\"INSERT INTO menu (item, price) VALUES ({format_values(row, ['item', 'price'])});\" for _, row in menu_df_clean.iterrows()]\n",
    "\n",
    "# --- 4.3. Menu_belongs_to (Junction Table) ---\n",
    "menu_belongs_to_df = menu_df[['Item', 'Cuisine']].copy()\n",
    "menu_belongs_to_df = menu_belongs_to_df.rename(columns={'Item': 'item', 'Cuisine': 'cuisine_name'})\n",
    "inserts['menu_belongs_to'] = [f\"INSERT INTO menu_belongs_to (item, cuisine_name) VALUES ({format_values(row, ['item', 'cuisine_name'])});\" for _, row in menu_belongs_to_df.iterrows()]\n",
    "\n",
    "# --- 4.4. Staff --- \n",
    "staff_df_clean = staff_df.drop_duplicates(subset=['Staff']).copy()\n",
    "staff_df_clean = staff_df_clean.rename(columns={'Staff': 'staff_id', 'Name': 'staff_name'})\n",
    "inserts['staff'] = [f\"INSERT INTO staff (staff_id, staff_name) VALUES ({format_values(row, ['staff_id', 'staff_name'])});\" for _, row in staff_df_clean.iterrows()]\n",
    "\n",
    "# --- 4.5. Staff_can_prepare (Junction Table) --- \n",
    "staff_cuisine_df = staff_df[['Staff', 'Cuisine']].copy()\n",
    "staff_cuisine_df = staff_cuisine_df.rename(columns={'Staff': 'staff_id', 'Cuisine': 'cuisine_name'})\n",
    "inserts['staff_can_prepare'] = [f\"INSERT INTO staff_can_prepare (staff_id, cuisine_name) VALUES ({format_values(row, ['staff_id', 'cuisine_name'])});\" for _, row in staff_cuisine_df.iterrows()]\n"
   ]
  },
  {
   "cell_type": "code",
   "execution_count": 5,
   "id": "b80b6b31",
   "metadata": {},
   "outputs": [
    {
     "name": "stdout",
     "output_type": "stream",
     "text": [
      "Successfully saved all INSERT statements to data_draft.sql\n"
     ]
    }
   ],
   "source": [
    "# --- Section 5: Save to data.sql file ---\n",
    "with open(OUTPUT_SQL_FILE, 'w') as f:\n",
    "    f.write(\"--\\n\")\n",
    "    f.write(\"-- File: data.sql\\n\")\n",
    "    f.write(\"-- Description: INSERT statements for all tables\\n\")\n",
    "    f.write(\"-- Generated automatically by generate_data.py\\n\")\n",
    "    f.write(\"--\\n\\n\")\n",
    "\n",
    "    for table_name, statement_list in inserts.items():\n",
    "        if statement_list:\n",
    "            f.write(f\"--\\n-- Data for table: {table_name}\\n--\\n\")\n",
    "            f.write('\\n'.join(statement_list))\n",
    "            f.write('\\n\\n')\n",
    "    \n",
    "    f.write(\"-- Simple query to show data is successfully inserted\\n\")\n",
    "    f.write(\"SELECT COUNT(*) FROM orders;\\n\")\n",
    "\n",
    "print(f\"Successfully saved all INSERT statements to {OUTPUT_SQL_FILE}\")"
   ]
  }
 ],
 "metadata": {
  "kernelspec": {
   "display_name": "mcomp-projects",
   "language": "python",
   "name": "python3"
  },
  "language_info": {
   "codemirror_mode": {
    "name": "ipython",
    "version": 3
   },
   "file_extension": ".py",
   "mimetype": "text/x-python",
   "name": "python",
   "nbconvert_exporter": "python",
   "pygments_lexer": "ipython3",
   "version": "3.13.5"
  }
 },
 "nbformat": 4,
 "nbformat_minor": 5
}
