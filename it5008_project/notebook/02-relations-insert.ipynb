{
 "cells": [
  {
   "cell_type": "code",
   "execution_count": 14,
   "id": "a4daace1",
   "metadata": {},
   "outputs": [],
   "source": [
    "import pandas as pd\n",
    "from pathlib import Path\n",
    "from collections import OrderedDict\n",
    "\n",
    "# Set file paths for input CSVs and output SQL\n",
    "CSV_DIR = Path('/home/jianwei07/dev/mcomp-projects/it5008_project/doc')  # Assumes CSVs are in the same directory\n",
    "OUTPUT_SQL_FILE = 'data_draft.sql'"
   ]
  },
  {
   "cell_type": "code",
   "execution_count": 15,
   "id": "28856f56",
   "metadata": {},
   "outputs": [],
   "source": [
    "def sql_quote(val):\n",
    "    \"\"\"Formats a value for an SQL string, handling NULLs and escaping quotes.\"\"\"\n",
    "    if pd.isna(val) or val is None or str(val).strip() == '':\n",
    "        return 'NULL'\n",
    "    s = str(val).replace(\"'\", \"''\")\n",
    "    return f\"'{s}'\"\n",
    "\n",
    "def format_values(row, columns):\n",
    "    \"\"\"Formats a list of values from a DataFrame row for an SQL INSERT statement.\"\"\"\n",
    "    return ', '.join([sql_quote(row[col]) for col in columns])\n"
   ]
  },
  {
   "cell_type": "code",
   "execution_count": 16,
   "id": "8be483cc",
   "metadata": {},
   "outputs": [
    {
     "name": "stdout",
     "output_type": "stream",
     "text": [
      "Reading CSV files...\n",
      "All CSV files have been read successfully.\n"
     ]
    }
   ],
   "source": [
    "print(\"Reading CSV files...\")\n",
    "menu_df = pd.read_csv(CSV_DIR / 'menu.csv')\n",
    "registration_df = pd.read_csv(CSV_DIR / 'registration.csv')\n",
    "staff_df = pd.read_csv(CSV_DIR / 'staff.csv')\n",
    "orders_df = pd.read_csv(CSV_DIR / 'orders.csv')\n",
    "print(\"All CSV files have been read successfully.\")"
   ]
  },
  {
   "cell_type": "code",
   "execution_count": 17,
   "id": "0aafc12d",
   "metadata": {},
   "outputs": [
    {
     "name": "stdout",
     "output_type": "stream",
     "text": [
      "Generating INSERT statements...\n",
      "All INSERT statements have been generated in memory.\n"
     ]
    }
   ],
   "source": [
    "print(\"Generating INSERT statements...\")\n",
    "\n",
    "# Dictionary to hold all generated INSERT statements\n",
    "inserts = OrderedDict()\n",
    "\n",
    "# --- 4.1. Cuisines --- \n",
    "cuisines_from_menu = menu_df['Cuisine'].unique()\n",
    "cuisines_from_staff = staff_df['Cuisine'].unique()\n",
    "all_cuisines = pd.Series(pd.concat([pd.Series(cuisines_from_menu), pd.Series(cuisines_from_staff)])).unique()\n",
    "cuisines_df = pd.DataFrame(all_cuisines, columns=['cuisine_name'])\n",
    "inserts['cuisines'] = [f\"INSERT INTO cuisines (cuisine_name) VALUES ({sql_quote(row['cuisine_name'])});\" for _, row in cuisines_df.iterrows()]\n",
    "\n",
    "# --- 4.2. Menu --- \n",
    "menu_df_clean = menu_df[['Item', 'Price', 'Cuisine']].copy()\n",
    "menu_df_clean = menu_df_clean.rename(columns={'Item': 'item', 'Price': 'price', 'Cuisine': 'cuisine_name'})\n",
    "inserts['menu'] = [f\"INSERT INTO menu (item, price, cuisine_name) VALUES ({format_values(row, ['item', 'price', 'cuisine_name'])});\" for _, row in menu_df_clean.iterrows()]\n",
    "\n",
    "# --- 4.3. Staff --- \n",
    "staff_df_clean = staff_df.drop_duplicates(subset=['Staff']).copy()\n",
    "staff_df_clean = staff_df_clean.rename(columns={'Staff': 'staff_id', 'Name': 'staff_name'})\n",
    "inserts['staff'] = [f\"INSERT INTO staff (staff_id, staff_name) VALUES ({format_values(row, ['staff_id', 'staff_name'])});\" for _, row in staff_df_clean.iterrows()]\n",
    "\n",
    "# --- 4.4. Staff_can_prepare (Junction Table) --- \n",
    "staff_cuisine_df = staff_df[['Staff', 'Cuisine']].copy()\n",
    "staff_cuisine_df = staff_cuisine_df.rename(columns={'Staff': 'staff_id', 'Cuisine': 'cuisine_name'})\n",
    "inserts['staff_can_prepare'] = [f\"INSERT INTO staff_can_prepare (staff_id, cuisine_name) VALUES ({format_values(row, ['staff_id', 'cuisine_name'])});\" for _, row in staff_cuisine_df.iterrows()]\n",
    "\n",
    "# --- 4.5. Registration --- \n",
    "reg_from_orders = orders_df[['Phone', 'Firstname', 'Lastname']].rename(columns={'Phone': 'phone', 'Firstname': 'first_name', 'Lastname': 'last_name'}).copy()\n",
    "reg_from_orders = reg_from_orders[reg_from_orders['phone'].notna() & reg_from_orders['phone'].apply(lambda x: isinstance(x, (str, int)))]\n",
    "reg_df_clean = pd.concat([registration_df.rename(columns={'Phone': 'phone', 'Firstname': 'first_name', 'Lastname': 'last_name', 'Date': 'reg_date', 'Time': 'reg_time'}), reg_from_orders])\n",
    "reg_df_clean = reg_df_clean.drop_duplicates(subset=['phone']).copy()\n",
    "reg_df_clean = reg_df_clean[reg_df_clean['phone'].apply(lambda x: isinstance(x, (str, int)) and len(str(x)) == 8)].copy()\n",
    "# For records from orders.csv, we don't have reg_date/time, so we'll use a placeholder\n",
    "reg_df_clean['reg_date'] = reg_df_clean['reg_date'].fillna('1970-01-01')\n",
    "reg_df_clean['reg_time'] = reg_df_clean['reg_time'].fillna('00:00:00')\n",
    "inserts['registration'] = [f\"INSERT INTO registration (phone, first_name, last_name, reg_date, reg_time) VALUES ({format_values(row, ['phone', 'first_name', 'last_name', 'reg_date', 'reg_time'])});\" for _, row in reg_df_clean.iterrows()]\n",
    "\n",
    "# --- 4.6. Payment_card --- \n",
    "payment_card_df = orders_df[orders_df['Payment'] == 'card'][['Card', 'CardType']].drop_duplicates().copy()\n",
    "payment_card_df = payment_card_df.rename(columns={'Card': 'card_number', 'CardType': 'card_type'})\n",
    "inserts['payment_card'] = [f\"INSERT INTO payment_card (card_number, card_type) VALUES ({format_values(row, ['card_number', 'card_type'])});\" for _, row in payment_card_df.iterrows()]\n",
    "\n",
    "# --- 4.7. Orders --- \n",
    "orders_df_header = orders_df.drop_duplicates(subset=['Order']).copy()\n",
    "orders_df_header = orders_df_header.rename(columns={'Date': 'orders_date', 'Time': 'orders_time', 'Order': 'orders_id', 'Payment': 'payment', 'TotalPrice': 'total_price', 'Phone': 'phone'})\n",
    "orders_df_header = orders_df_header[['orders_id', 'orders_date', 'orders_time', 'payment', 'total_price', 'phone']].copy()\n",
    "inserts['orders'] = [f\"INSERT INTO orders (orders_id, orders_date, orders_time, payment, total_price, phone) VALUES ({format_values(row, ['orders_id', 'orders_date', 'orders_time', 'payment', 'total_price', 'phone'])});\" for _, row in orders_df_header.iterrows()]\n",
    "\n",
    "# --- 4.8. Order_Items --- \n",
    "order_items_df = orders_df.groupby(['Order', 'Item']).agg(\n",
    "    staff_id=('Staff', 'first'),\n",
    "    qty=('Item', 'count')\n",
    ").reset_index()\n",
    "order_items_df = order_items_df.rename(columns={'Order': 'orders_id', 'Item': 'item', 'Staff': 'staff_id'})\n",
    "order_items_df = pd.merge(order_items_df, menu_df[['Item', 'Price']].rename(columns={'Item': 'item', 'Price': 'unit_price'}), on='item', how='left')\n",
    "inserts['order_items'] = [f\"INSERT INTO order_items (orders_id, item, staff_id, qty, unit_price) VALUES ({format_values(row, ['orders_id', 'item', 'staff_id', 'qty', 'unit_price'])});\" for _, row in order_items_df.iterrows()]\n",
    "\n",
    "print(\"All INSERT statements have been generated in memory.\")"
   ]
  },
  {
   "cell_type": "code",
   "execution_count": 18,
   "id": "b80b6b31",
   "metadata": {},
   "outputs": [
    {
     "name": "stdout",
     "output_type": "stream",
     "text": [
      "Successfully saved all INSERT statements to data_draft.sql\n"
     ]
    }
   ],
   "source": [
    "# --- Section 5: Save to data.sql file ---\n",
    "with open(OUTPUT_SQL_FILE, 'w') as f:\n",
    "    f.write(\"--\\n\")\n",
    "    f.write(\"-- File: data.sql\\n\")\n",
    "    f.write(\"-- Description: INSERT statements for all tables\\n\")\n",
    "    f.write(\"-- Generated automatically by generate_data.py\\n\")\n",
    "    f.write(\"--\\n\\n\")\n",
    "\n",
    "    for table_name, statement_list in inserts.items():\n",
    "        if statement_list:\n",
    "            f.write(f\"--\\n-- Data for table: {table_name}\\n--\\n\")\n",
    "            f.write('\\n'.join(statement_list))\n",
    "            f.write('\\n\\n')\n",
    "    \n",
    "    f.write(\"-- Simple query to show data is successfully inserted\\n\")\n",
    "    f.write(\"SELECT COUNT(*) FROM orders;\\n\")\n",
    "\n",
    "print(f\"Successfully saved all INSERT statements to {OUTPUT_SQL_FILE}\")"
   ]
  }
 ],
 "metadata": {
  "kernelspec": {
   "display_name": "mcomp-projects",
   "language": "python",
   "name": "python3"
  },
  "language_info": {
   "codemirror_mode": {
    "name": "ipython",
    "version": 3
   },
   "file_extension": ".py",
   "mimetype": "text/x-python",
   "name": "python",
   "nbconvert_exporter": "python",
   "pygments_lexer": "ipython3",
   "version": "3.13.5"
  }
 },
 "nbformat": 4,
 "nbformat_minor": 5
}
