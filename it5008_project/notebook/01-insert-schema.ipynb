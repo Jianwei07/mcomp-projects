{
 "cells": [
  {
   "cell_type": "code",
   "execution_count": 18,
   "id": "a1b2c3d4",
   "metadata": {},
   "outputs": [],
   "source": [
    "# Cell 1 — Imports & config\n",
    "import pandas as pd\n",
    "from pathlib import Path\n",
    "\n",
    "# === CHOOSE YOUR CSV FILE HERE ===\n",
    "# Options: 'menu.csv', 'orders.csv', 'registration.csv', 'staff.csv'\n",
    "csv_file_name = 'registration.csv'\n",
    "# =================================\n",
    "\n",
    "CSV_PATH = Path(f'../doc/{csv_file_name}')\n",
    "OUTPUT_SQL = Path(f'{CSV_PATH.stem}_inserts.sql')\n",
    "\n",
    "# Helper: SQL quote and NULL handling\n",
    "def sql_quote(val):\n",
    "    if pd.isna(val):\n",
    "        return \"NULL\"\n",
    "    s = str(val)\n",
    "    if s.strip() == \"\":\n",
    "        return \"NULL\"\n",
    "    s = s.replace(\"'\", \"''\")\n",
    "    return f\"'{s}'\""
   ]
  },
  {
   "cell_type": "code",
   "execution_count": 19,
   "id": "b2c3d4e5",
   "metadata": {},
   "outputs": [
    {
     "name": "stdout",
     "output_type": "stream",
     "text": [
      "Headers for registration.csv:\n",
      "- Date\n",
      "- Time\n",
      "- Phone\n",
      "- Firstname\n",
      "- Lastname\n",
      "First 5 rows:\n"
     ]
    },
    {
     "data": {
      "text/html": [
       "<div>\n",
       "<style scoped>\n",
       "    .dataframe tbody tr th:only-of-type {\n",
       "        vertical-align: middle;\n",
       "    }\n",
       "\n",
       "    .dataframe tbody tr th {\n",
       "        vertical-align: top;\n",
       "    }\n",
       "\n",
       "    .dataframe thead th {\n",
       "        text-align: right;\n",
       "    }\n",
       "</style>\n",
       "<table border=\"1\" class=\"dataframe\">\n",
       "  <thead>\n",
       "    <tr style=\"text-align: right;\">\n",
       "      <th></th>\n",
       "      <th>Date</th>\n",
       "      <th>Time</th>\n",
       "      <th>Phone</th>\n",
       "      <th>Firstname</th>\n",
       "      <th>Lastname</th>\n",
       "    </tr>\n",
       "  </thead>\n",
       "  <tbody>\n",
       "    <tr>\n",
       "      <th>0</th>\n",
       "      <td>2024-03-01</td>\n",
       "      <td>12:19:23</td>\n",
       "      <td>93627414</td>\n",
       "      <td>Ignazio</td>\n",
       "      <td>Abrahmer</td>\n",
       "    </tr>\n",
       "    <tr>\n",
       "      <th>1</th>\n",
       "      <td>2024-03-01</td>\n",
       "      <td>15:39:48</td>\n",
       "      <td>89007281</td>\n",
       "      <td>Bernard</td>\n",
       "      <td>Cowlard</td>\n",
       "    </tr>\n",
       "    <tr>\n",
       "      <th>2</th>\n",
       "      <td>2024-03-01</td>\n",
       "      <td>16:19:03</td>\n",
       "      <td>81059611</td>\n",
       "      <td>Laurette</td>\n",
       "      <td>Birney</td>\n",
       "    </tr>\n",
       "    <tr>\n",
       "      <th>3</th>\n",
       "      <td>2024-03-01</td>\n",
       "      <td>18:39:04</td>\n",
       "      <td>93342383</td>\n",
       "      <td>Corby</td>\n",
       "      <td>Crinage</td>\n",
       "    </tr>\n",
       "    <tr>\n",
       "      <th>4</th>\n",
       "      <td>2024-03-01</td>\n",
       "      <td>19:22:02</td>\n",
       "      <td>85625766</td>\n",
       "      <td>Mal</td>\n",
       "      <td>Bavister</td>\n",
       "    </tr>\n",
       "  </tbody>\n",
       "</table>\n",
       "</div>"
      ],
      "text/plain": [
       "         Date      Time     Phone Firstname  Lastname\n",
       "0  2024-03-01  12:19:23  93627414   Ignazio  Abrahmer\n",
       "1  2024-03-01  15:39:48  89007281   Bernard   Cowlard\n",
       "2  2024-03-01  16:19:03  81059611  Laurette    Birney\n",
       "3  2024-03-01  18:39:04  93342383     Corby   Crinage\n",
       "4  2024-03-01  19:22:02  85625766       Mal  Bavister"
      ]
     },
     "execution_count": 19,
     "metadata": {},
     "output_type": "execute_result"
    }
   ],
   "source": [
    "# Cell 2 — Load CSV and display headers\n",
    "df = pd.read_csv(CSV_PATH)\n",
    "\n",
    "print(f\"Headers for {CSV_PATH.name}:\")\n",
    "for col in df.columns:\n",
    "    print(f'- {col}')\n",
    "\n",
    "print('First 5 rows:')\n",
    "df.head()"
   ]
  },
  {
   "cell_type": "code",
   "execution_count": 20,
   "id": "c3d4e5f6",
   "metadata": {},
   "outputs": [
    {
     "name": "stdout",
     "output_type": "stream",
     "text": [
      "Selected columns for INSERT: Date, Time, Phone, Firstname, Lastname\n"
     ]
    },
    {
     "data": {
      "text/html": [
       "<div>\n",
       "<style scoped>\n",
       "    .dataframe tbody tr th:only-of-type {\n",
       "        vertical-align: middle;\n",
       "    }\n",
       "\n",
       "    .dataframe tbody tr th {\n",
       "        vertical-align: top;\n",
       "    }\n",
       "\n",
       "    .dataframe thead th {\n",
       "        text-align: right;\n",
       "    }\n",
       "</style>\n",
       "<table border=\"1\" class=\"dataframe\">\n",
       "  <thead>\n",
       "    <tr style=\"text-align: right;\">\n",
       "      <th></th>\n",
       "      <th>Date</th>\n",
       "      <th>Time</th>\n",
       "      <th>Phone</th>\n",
       "      <th>Firstname</th>\n",
       "      <th>Lastname</th>\n",
       "    </tr>\n",
       "  </thead>\n",
       "  <tbody>\n",
       "    <tr>\n",
       "      <th>0</th>\n",
       "      <td>2024-03-01</td>\n",
       "      <td>12:19:23</td>\n",
       "      <td>93627414</td>\n",
       "      <td>Ignazio</td>\n",
       "      <td>Abrahmer</td>\n",
       "    </tr>\n",
       "    <tr>\n",
       "      <th>1</th>\n",
       "      <td>2024-03-01</td>\n",
       "      <td>15:39:48</td>\n",
       "      <td>89007281</td>\n",
       "      <td>Bernard</td>\n",
       "      <td>Cowlard</td>\n",
       "    </tr>\n",
       "    <tr>\n",
       "      <th>2</th>\n",
       "      <td>2024-03-01</td>\n",
       "      <td>16:19:03</td>\n",
       "      <td>81059611</td>\n",
       "      <td>Laurette</td>\n",
       "      <td>Birney</td>\n",
       "    </tr>\n",
       "    <tr>\n",
       "      <th>3</th>\n",
       "      <td>2024-03-01</td>\n",
       "      <td>18:39:04</td>\n",
       "      <td>93342383</td>\n",
       "      <td>Corby</td>\n",
       "      <td>Crinage</td>\n",
       "    </tr>\n",
       "    <tr>\n",
       "      <th>4</th>\n",
       "      <td>2024-03-01</td>\n",
       "      <td>19:22:02</td>\n",
       "      <td>85625766</td>\n",
       "      <td>Mal</td>\n",
       "      <td>Bavister</td>\n",
       "    </tr>\n",
       "  </tbody>\n",
       "</table>\n",
       "</div>"
      ],
      "text/plain": [
       "         Date      Time     Phone Firstname  Lastname\n",
       "0  2024-03-01  12:19:23  93627414   Ignazio  Abrahmer\n",
       "1  2024-03-01  15:39:48  89007281   Bernard   Cowlard\n",
       "2  2024-03-01  16:19:03  81059611  Laurette    Birney\n",
       "3  2024-03-01  18:39:04  93342383     Corby   Crinage\n",
       "4  2024-03-01  19:22:02  85625766       Mal  Bavister"
      ]
     },
     "execution_count": 20,
     "metadata": {},
     "output_type": "execute_result"
    }
   ],
   "source": [
    "# Cell 3 — Select which columns to include in the INSERT statements\n",
    "# === CHOOSE YOUR COLUMNS HERE ===\n",
    "# Replace with the list of columns you want to export\n",
    "selected_columns = [\"Date\", \"Time\", \"Phone\", \"Firstname\", \"Lastname\"]\n",
    "# =================================\n",
    "\n",
    "# Verify that the selected columns exist in the DataFrame\n",
    "missing_cols = [col for col in selected_columns if col not in df.columns]\n",
    "if missing_cols:\n",
    "    raise ValueError(f\"The following columns were not found in the CSV: {missing_cols}\")\n",
    "\n",
    "df_selected = df[selected_columns]\n",
    "print(f\"Selected columns for INSERT: {', '.join(df_selected.columns)}\")\n",
    "df_selected.head()"
   ]
  },
  {
   "cell_type": "code",
   "execution_count": 21,
   "id": "d4e5f6g7",
   "metadata": {},
   "outputs": [
    {
     "name": "stdout",
     "output_type": "stream",
     "text": [
      "--- Preview of INSERT statements for table 'registration' ---\n",
      "INSERT INTO registration (Date, Time, Phone, Firstname, Lastname) VALUES ('2024-03-01', '12:19:23', '93627414', 'Ignazio', 'Abrahmer');\n",
      "INSERT INTO registration (Date, Time, Phone, Firstname, Lastname) VALUES ('2024-03-01', '15:39:48', '89007281', 'Bernard', 'Cowlard');\n",
      "INSERT INTO registration (Date, Time, Phone, Firstname, Lastname) VALUES ('2024-03-01', '16:19:03', '81059611', 'Laurette', 'Birney');\n",
      "INSERT INTO registration (Date, Time, Phone, Firstname, Lastname) VALUES ('2024-03-01', '18:39:04', '93342383', 'Corby', 'Crinage');\n",
      "INSERT INTO registration (Date, Time, Phone, Firstname, Lastname) VALUES ('2024-03-01', '19:22:02', '85625766', 'Mal', 'Bavister');\n"
     ]
    }
   ],
   "source": [
    "# Cell 4 — Generate and preview PostgreSQL INSERT statements\n",
    "inserts = []\n",
    "table_name = CSV_PATH.stem\n",
    "\n",
    "for _, row in df_selected.iterrows():\n",
    "    values = ', '.join([sql_quote(row[col]) for col in df_selected.columns])\n",
    "    stmt = f\"INSERT INTO {table_name} ({', '.join(df_selected.columns)}) VALUES ({values});\"\n",
    "    inserts.append(stmt)\n",
    "\n",
    "# Preview first 5 inserts\n",
    "print(f\"--- Preview of INSERT statements for table '{table_name}' ---\")\n",
    "for i in inserts[:5]:\n",
    "    print(i)"
   ]
  },
  {
   "cell_type": "code",
   "execution_count": 23,
   "id": "e5f6g7h8",
   "metadata": {},
   "outputs": [
    {
     "name": "stdout",
     "output_type": "stream",
     "text": [
      "Successfully saved 831 INSERT statements to: registration_inserts.sql\n"
     ]
    }
   ],
   "source": [
    "# Cell 5 — (Optional) Save all INSERTs to a .sql file\n",
    "if inserts:\n",
    "    OUTPUT_SQL.write_text('\\n'.join(inserts), encoding='utf-8')\n",
    "    print(f\"Successfully saved {len(inserts)} INSERT statements to: {OUTPUT_SQL}\")\n",
    "else:\n",
    "    print(\"No INSERT statements were generated.\")"
   ]
  }
 ],
 "metadata": {
  "kernelspec": {
   "display_name": "Python 3",
   "language": "python",
   "name": "python3"
  },
  "language_info": {
   "codemirror_mode": {
    "name": "ipython",
    "version": 3
   },
   "file_extension": ".py",
   "mimetype": "text/x-python",
   "name": "python",
   "nbconvert_exporter": "python",
   "pygments_lexer": "ipython3",
   "version": "3.10.9"
  }
 },
 "nbformat": 4,
 "nbformat_minor": 4
}
