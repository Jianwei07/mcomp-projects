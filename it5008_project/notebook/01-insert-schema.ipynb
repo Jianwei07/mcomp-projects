{
 "cells": [
  {
   "cell_type": "code",
   "execution_count": 15,
   "id": "a1b2c3d4",
   "metadata": {},
   "outputs": [],
   "source": [
    "# Cell 1 — Imports & config\n",
    "import pandas as pd\n",
    "from pathlib import Path\n",
    "\n",
    "# === CHOOSE YOUR CSV FILE HERE ===\n",
    "# Options: 'menu.csv', 'orders.csv', 'registration.csv', 'staff.csv'\n",
    "csv_file_name = 'staff.csv'\n",
    "# =================================\n",
    "\n",
    "CSV_PATH = Path(f'../doc/{csv_file_name}')\n",
    "OUTPUT_SQL = Path(f'{CSV_PATH.stem}_inserts.sql')\n",
    "\n",
    "# Helper: SQL quote and NULL handling\n",
    "def sql_quote(val):\n",
    "    if pd.isna(val):\n",
    "        return \"NULL\"\n",
    "    s = str(val)\n",
    "    if s.strip() == \"\":\n",
    "        return \"NULL\"\n",
    "    s = s.replace(\"'\", \"''\")\n",
    "    return f\"'{s}'\""
   ]
  },
  {
   "cell_type": "code",
   "execution_count": 16,
   "id": "b2c3d4e5",
   "metadata": {},
   "outputs": [
    {
     "name": "stdout",
     "output_type": "stream",
     "text": [
      "Headers for staff.csv:\n",
      "- Staff\n",
      "- Name\n",
      "- Cuisine\n",
      "First 5 rows:\n"
     ]
    },
    {
     "data": {
      "text/html": [
       "<div>\n",
       "<style scoped>\n",
       "    .dataframe tbody tr th:only-of-type {\n",
       "        vertical-align: middle;\n",
       "    }\n",
       "\n",
       "    .dataframe tbody tr th {\n",
       "        vertical-align: top;\n",
       "    }\n",
       "\n",
       "    .dataframe thead th {\n",
       "        text-align: right;\n",
       "    }\n",
       "</style>\n",
       "<table border=\"1\" class=\"dataframe\">\n",
       "  <thead>\n",
       "    <tr style=\"text-align: right;\">\n",
       "      <th></th>\n",
       "      <th>Staff</th>\n",
       "      <th>Name</th>\n",
       "      <th>Cuisine</th>\n",
       "    </tr>\n",
       "  </thead>\n",
       "  <tbody>\n",
       "    <tr>\n",
       "      <th>0</th>\n",
       "      <td>STAFF-01</td>\n",
       "      <td>Kat</td>\n",
       "      <td>Indonesian</td>\n",
       "    </tr>\n",
       "    <tr>\n",
       "      <th>1</th>\n",
       "      <td>STAFF-01</td>\n",
       "      <td>Kat</td>\n",
       "      <td>German</td>\n",
       "    </tr>\n",
       "    <tr>\n",
       "      <th>2</th>\n",
       "      <td>STAFF-02</td>\n",
       "      <td>Kat</td>\n",
       "      <td>German</td>\n",
       "    </tr>\n",
       "    <tr>\n",
       "      <th>3</th>\n",
       "      <td>STAFF-02</td>\n",
       "      <td>Kat</td>\n",
       "      <td>Chinese</td>\n",
       "    </tr>\n",
       "    <tr>\n",
       "      <th>4</th>\n",
       "      <td>STAFF-03</td>\n",
       "      <td>Taro</td>\n",
       "      <td>Vietnamese</td>\n",
       "    </tr>\n",
       "  </tbody>\n",
       "</table>\n",
       "</div>"
      ],
      "text/plain": [
       "      Staff  Name     Cuisine\n",
       "0  STAFF-01   Kat  Indonesian\n",
       "1  STAFF-01   Kat      German\n",
       "2  STAFF-02   Kat      German\n",
       "3  STAFF-02   Kat     Chinese\n",
       "4  STAFF-03  Taro  Vietnamese"
      ]
     },
     "execution_count": 16,
     "metadata": {},
     "output_type": "execute_result"
    }
   ],
   "source": [
    "# Cell 2 — Load CSV and display headers\n",
    "df = pd.read_csv(CSV_PATH)\n",
    "\n",
    "print(f\"Headers for {CSV_PATH.name}:\")\n",
    "for col in df.columns:\n",
    "    print(f'- {col}')\n",
    "\n",
    "print('First 5 rows:')\n",
    "df.head()"
   ]
  },
  {
   "cell_type": "code",
   "execution_count": null,
   "id": "c3d4e5f6",
   "metadata": {},
   "outputs": [
    {
     "ename": "ValueError",
     "evalue": "The following columns were not found in the CSV: ['Cusine']",
     "output_type": "error",
     "traceback": [
      "\u001b[31m---------------------------------------------------------------------------\u001b[39m",
      "\u001b[31mValueError\u001b[39m                                Traceback (most recent call last)",
      "\u001b[36mCell\u001b[39m\u001b[36m \u001b[39m\u001b[32mIn[18]\u001b[39m\u001b[32m, line 12\u001b[39m\n\u001b[32m     10\u001b[39m missing_cols = [col \u001b[38;5;28;01mfor\u001b[39;00m col \u001b[38;5;129;01min\u001b[39;00m selected_columns \u001b[38;5;28;01mif\u001b[39;00m col \u001b[38;5;129;01mnot\u001b[39;00m \u001b[38;5;129;01min\u001b[39;00m df.columns]\n\u001b[32m     11\u001b[39m \u001b[38;5;28;01mif\u001b[39;00m missing_cols:\n\u001b[32m---> \u001b[39m\u001b[32m12\u001b[39m     \u001b[38;5;28;01mraise\u001b[39;00m \u001b[38;5;167;01mValueError\u001b[39;00m(\u001b[33mf\u001b[39m\u001b[33m\"\u001b[39m\u001b[33mThe following columns were not found in the CSV: \u001b[39m\u001b[38;5;132;01m{\u001b[39;00mmissing_cols\u001b[38;5;132;01m}\u001b[39;00m\u001b[33m\"\u001b[39m)\n\u001b[32m     14\u001b[39m df_selected = df[selected_columns]\n\u001b[32m     15\u001b[39m \u001b[38;5;28mprint\u001b[39m(\u001b[33mf\u001b[39m\u001b[33m\"\u001b[39m\u001b[33mSelected columns for INSERT: \u001b[39m\u001b[38;5;132;01m{\u001b[39;00m\u001b[33m'\u001b[39m\u001b[33m, \u001b[39m\u001b[33m'\u001b[39m.join(df_selected.columns)\u001b[38;5;132;01m}\u001b[39;00m\u001b[33m\"\u001b[39m)\n",
      "\u001b[31mValueError\u001b[39m: The following columns were not found in the CSV: ['Cusine']"
     ]
    }
   ],
   "source": [
    "# Cell 3 — Select which columns to include in the INSERT statements\n",
    "# === CHOOSE YOUR COLUMNS HERE ===\n",
    "# You can now select from the detected columns or use all of them\n",
    "# selected_columns = list(df.columns)\n",
    "# Or uncomment below to manually select from detected columns\n",
    "selected_columns = [\"Cuisine\"]\n",
    "# =================================\n",
    "\n",
    "# Verify that the selected columns exist in the DataFrame\n",
    "missing_cols = [col for col in selected_columns if col not in df.columns]\n",
    "if missing_cols:\n",
    "    raise ValueError(f\"The following columns were not found in the CSV: {missing_cols}\")\n",
    "\n",
    "df_selected = df[selected_columns]\n",
    "print(f\"Selected columns for INSERT: {', '.join(df_selected.columns)}\")\n",
    "df_selected.head()"
   ]
  },
  {
   "cell_type": "code",
   "execution_count": 13,
   "id": "d4e5f6g7",
   "metadata": {},
   "outputs": [
    {
     "name": "stdout",
     "output_type": "stream",
     "text": [
      "--- Preview of INSERT statements for table 'staff' ---\n",
      "INSERT INTO staff (Staff, Name, Cuisine) VALUES ('STAFF-01', 'Kat', 'Indonesian');\n",
      "INSERT INTO staff (Staff, Name, Cuisine) VALUES ('STAFF-01', 'Kat', 'German');\n",
      "INSERT INTO staff (Staff, Name, Cuisine) VALUES ('STAFF-02', 'Kat', 'German');\n",
      "INSERT INTO staff (Staff, Name, Cuisine) VALUES ('STAFF-02', 'Kat', 'Chinese');\n",
      "INSERT INTO staff (Staff, Name, Cuisine) VALUES ('STAFF-03', 'Taro', 'Vietnamese');\n"
     ]
    }
   ],
   "source": [
    "# Cell 4 — Generate and preview PostgreSQL INSERT statements\n",
    "inserts = []\n",
    "table_name = CSV_PATH.stem\n",
    "\n",
    "for _, row in df_selected.iterrows():\n",
    "    values = ', '.join([sql_quote(row[col]) for col in df_selected.columns])\n",
    "    stmt = f\"INSERT INTO {table_name} ({', '.join(df_selected.columns)}) VALUES ({values});\"\n",
    "    inserts.append(stmt)\n",
    "\n",
    "# Preview first 5 inserts\n",
    "print(f\"--- Preview of INSERT statements for table '{table_name}' ---\")\n",
    "for i in inserts[:5]:\n",
    "    print(i)"
   ]
  },
  {
   "cell_type": "code",
   "execution_count": 14,
   "id": "e5f6g7h8",
   "metadata": {},
   "outputs": [
    {
     "name": "stdout",
     "output_type": "stream",
     "text": [
      "Successfully saved 39 INSERT statements to: staff_inserts.sql\n"
     ]
    }
   ],
   "source": [
    "# Cell 5 — (Optional) Save all INSERTs to a .sql file\n",
    "if inserts:\n",
    "    OUTPUT_SQL.write_text('\\n'.join(inserts), encoding='utf-8')\n",
    "    print(f\"Successfully saved {len(inserts)} INSERT statements to: {OUTPUT_SQL}\")\n",
    "else:\n",
    "    print(\"No INSERT statements were generated.\")"
   ]
  }
 ],
 "metadata": {
  "kernelspec": {
   "display_name": "mcomp-projects",
   "language": "python",
   "name": "python3"
  },
  "language_info": {
   "codemirror_mode": {
    "name": "ipython",
    "version": 3
   },
   "file_extension": ".py",
   "mimetype": "text/x-python",
   "name": "python",
   "nbconvert_exporter": "python",
   "pygments_lexer": "ipython3",
   "version": "3.13.5"
  }
 },
 "nbformat": 4,
 "nbformat_minor": 4
}
