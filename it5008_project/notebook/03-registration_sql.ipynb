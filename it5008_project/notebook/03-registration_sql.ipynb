{
 "cells": [
  {
   "cell_type": "code",
   "execution_count": 3,
   "id": "0e971ca7",
   "metadata": {},
   "outputs": [],
   "source": [
    "import csv\n",
    "import os\n",
    "\n",
    "# Paths to your CSV files\n",
    "registration_file = '../doc/registration.csv'\n",
    "orders_file = '../doc/orders.csv'\n",
    "order_items_file = '../doc/order_items.csv'\n",
    "orders_paid_by_card_file = '../doc/orders_paid_by_card.csv'\n",
    "payment_card_file = '../doc/payment_card.csv'\n",
    "\n",
    "# Create a folder for SQL files\n",
    "output_folder = '../project_2_sub/leechuan'  # new folder path\n",
    "os.makedirs(output_folder, exist_ok=True)    # create folder if it doesn't exist\n",
    "\n",
    "\n",
    "def escape_sql(value):\n",
    "    \"\"\"Escape single quotes in a string for SQL.\"\"\"\n",
    "    if value is None:\n",
    "        return ''\n",
    "    return value.replace(\"'\", \"''\")"
   ]
  },
  {
   "cell_type": "code",
   "execution_count": 15,
   "id": "57988cdb",
   "metadata": {},
   "outputs": [
    {
     "name": "stdout",
     "output_type": "stream",
     "text": [
      "Registration INSERT statements saved to ../project_2_sub/leechuan\\registration_inserts.sql\n"
     ]
    }
   ],
   "source": [
    "# 1. Process registration_inserts\n",
    "registration_sql_path = os.path.join(output_folder, 'registration_inserts.sql')\n",
    "\n",
    "with open(registration_sql_path, 'w') as f:  # overwrite if file exists\n",
    "    with open(registration_file, newline='') as csvfile:\n",
    "        reader = csv.DictReader(csvfile)\n",
    "        for row in reader:\n",
    "            phone = row['Phone']\n",
    "            first_name = row['Firstname']\n",
    "            last_name = row['Lastname']\n",
    "            reg_date = row['Date']\n",
    "            reg_time = row['Time']\n",
    "\n",
    "            sql = f\"INSERT INTO registration (phone, first_name, last_name, reg_date, reg_time) \" \\\n",
    "            f\"VALUES ('{escape_sql(phone)}', '{escape_sql(first_name)}', '{escape_sql(last_name)}', '{reg_date}', '{reg_time}');\"\n",
    "            f.write(sql + '\\n')\n",
    "\n",
    "print(f\"Registration INSERT statements saved to {registration_sql_path}\")"
   ]
  },
  {
   "cell_type": "code",
   "execution_count": null,
   "id": "16f2f424",
   "metadata": {},
   "outputs": [
    {
     "name": "stdout",
     "output_type": "stream",
     "text": [
      "Registration Membership INSERT statements saved to ../project_2_sub/leechuan\\registration_membership_inserts.sql\n"
     ]
    }
   ],
   "source": [
    "# 2. Process registration_membership_inserts\n",
    "membership_sql_path = os.path.join(output_folder, 'registration_membership_inserts.sql')\n",
    "unique_pairs = set()\n",
    "\n",
    "with open(membership_sql_path, 'w') as f:\n",
    "    with open(orders_file, newline='') as csvfile:\n",
    "        reader = csv.DictReader(csvfile)\n",
    "        for row in reader:\n",
    "            phone = row['Phone']\n",
    "            order_id = row['Order']\n",
    "\n",
    "            if phone and (phone, order_id) not in unique_pairs:\n",
    "                unique_pairs.add((phone, order_id))\n",
    "                sql = f\"INSERT INTO membership_orders (phone, orders_id) \" \\\n",
    "                f\"VALUES ('{escape_sql(phone)}', '{escape_sql(order_id)}');\"\n",
    "                f.write(sql + '\\n')\n",
    "\n",
    "print(f\"Registration Membership INSERT statements saved to {membership_sql_path}\")"
   ]
  },
  {
   "cell_type": "code",
   "execution_count": 17,
   "id": "418b7d4a",
   "metadata": {},
   "outputs": [
    {
     "name": "stdout",
     "output_type": "stream",
     "text": [
      "Order Items INSERT statements saved to ../project_2_sub/leechuan\\order_items_inserts.sql\n"
     ]
    }
   ],
   "source": [
    "# 3. Process order_items\n",
    "order_items_sql_path = os.path.join(output_folder, 'order_items_inserts.sql')\n",
    "\n",
    "with open(order_items_sql_path, 'w') as f:\n",
    "    with open(order_items_file, newline='') as csvfile:\n",
    "        reader = csv.DictReader(csvfile)\n",
    "        for row in reader:\n",
    "            orders_id = row['orders_id']\n",
    "            order_no = row['order_no']\n",
    "            item = row['item']\n",
    "            staff_id = row['staff_id']\n",
    "\n",
    "            sql = f\"INSERT INTO order_items (orders_id, order_no, item, staff_id) \" \\\n",
    "                  f\"VALUES ('{escape_sql(orders_id)}', '{order_no}', '{escape_sql(item)}', '{escape_sql(staff_id)}');\"\n",
    "            f.write(sql + '\\n')\n",
    "\n",
    "print(f\"Order Items INSERT statements saved to {order_items_sql_path}\")"
   ]
  },
  {
   "cell_type": "code",
   "execution_count": 7,
   "id": "355ddb62",
   "metadata": {},
   "outputs": [
    {
     "name": "stdout",
     "output_type": "stream",
     "text": [
      "Aggregated Order Items INSERT statements saved to ../project_2_sub/leechuan\\modified_order_items_inserts.sql\n"
     ]
    }
   ],
   "source": [
    "# 3b. Modified Process order_items\n",
    "order_items_sql_path = os.path.join(output_folder, 'modified_order_items_inserts.sql')\n",
    "\n",
    "from collections import defaultdict\n",
    "\n",
    "# Aggregate by (orders_id, item, staff_id)\n",
    "aggregated = defaultdict(int)\n",
    "\n",
    "with open(order_items_file, newline='') as csvfile:\n",
    "    reader = csv.DictReader(csvfile)\n",
    "    for row in reader:\n",
    "        key = (row['orders_id'], row['item'], row['staff_id'])\n",
    "        aggregated[key] += 1\n",
    "\n",
    "with open(order_items_sql_path, 'w') as f:\n",
    "    for (orders_id, item, staff_id), qty in aggregated.items():\n",
    "        sql = (\n",
    "            f\"INSERT INTO order_items (orders_id, item, staff_id, order_count) \"\n",
    "            f\"VALUES ('{escape_sql(orders_id)}', \"\n",
    "            f\"'{escape_sql(item)}', '{escape_sql(staff_id)}','{qty}');\"\n",
    "        )\n",
    "        f.write(sql + '\\n')\n",
    "\n",
    "print(f\"Aggregated Order Items INSERT statements saved to {order_items_sql_path}\")"
   ]
  },
  {
   "cell_type": "code",
   "execution_count": 19,
   "id": "2a03d9a4",
   "metadata": {},
   "outputs": [
    {
     "name": "stdout",
     "output_type": "stream",
     "text": [
      "Orders Paid By Card INSERT statements saved to ../project_2_sub/leechuan\\orders_paid_by_card_inserts.sql\n"
     ]
    }
   ],
   "source": [
    "# 4. Process orders_paid_by_card\n",
    "orders_paid_sql_path = os.path.join(output_folder, 'orders_paid_by_card_inserts.sql')\n",
    "\n",
    "with open(orders_paid_sql_path, 'w') as f:\n",
    "    with open(orders_paid_by_card_file, newline='') as csvfile:\n",
    "        reader = csv.DictReader(csvfile)\n",
    "        for row in reader:\n",
    "            orders_id = row['orders_id']\n",
    "            card_number = row['card_number']\n",
    "\n",
    "            sql = f\"INSERT INTO orders_paid_by_card (orders_id, card_number) \" \\\n",
    "                  f\"VALUES ('{escape_sql(orders_id)}', '{escape_sql(card_number)}');\"\n",
    "            f.write(sql + '\\n')\n",
    "\n",
    "print(f\"Orders Paid By Card INSERT statements saved to {orders_paid_sql_path}\")"
   ]
  },
  {
   "cell_type": "code",
   "execution_count": 18,
   "id": "c52b67eb",
   "metadata": {},
   "outputs": [
    {
     "name": "stdout",
     "output_type": "stream",
     "text": [
      "Payment Card INSERT statements saved to ../project_2_sub/leechuan\\payment_card_inserts.sql\n"
     ]
    }
   ],
   "source": [
    "# 5. Process payment_card\n",
    "payment_card_sql_path = os.path.join(output_folder, 'payment_card_inserts.sql')\n",
    "\n",
    "with open(payment_card_sql_path, 'w') as f:\n",
    "    with open(payment_card_file, newline='') as csvfile:\n",
    "        reader = csv.DictReader(csvfile)\n",
    "        for row in reader:\n",
    "            card_number = row['card_number']\n",
    "            card_type = row['card_type']\n",
    "\n",
    "            sql = f\"INSERT INTO payment_card (card_number, card_type) \" \\\n",
    "                  f\"VALUES ('{escape_sql(card_number)}', '{escape_sql(card_type)}');\"\n",
    "            f.write(sql + '\\n')\n",
    "\n",
    "print(f\"Payment Card INSERT statements saved to {payment_card_sql_path}\")"
   ]
  },
  {
   "cell_type": "markdown",
   "id": "1a09f9f7",
   "metadata": {},
   "source": []
  }
 ],
 "metadata": {
  "kernelspec": {
   "display_name": "Python 3",
   "language": "python",
   "name": "python3"
  },
  "language_info": {
   "codemirror_mode": {
    "name": "ipython",
    "version": 3
   },
   "file_extension": ".py",
   "mimetype": "text/x-python",
   "name": "python",
   "nbconvert_exporter": "python",
   "pygments_lexer": "ipython3",
   "version": "3.11.2"
  }
 },
 "nbformat": 4,
 "nbformat_minor": 5
}
