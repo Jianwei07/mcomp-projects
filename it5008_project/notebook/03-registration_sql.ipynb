{
 "cells": [
  {
   "cell_type": "code",
   "execution_count": null,
   "id": "0e971ca7",
   "metadata": {},
   "outputs": [],
   "source": [
    "import csv\n",
    "import os\n",
    "\n",
    "# Paths to your CSV files\n",
    "registration_file = '../doc/registration.csv'\n",
    "orders_file = '../doc/orders.csv'\n",
    "\n",
    "# Create a folder for SQL files\n",
    "output_folder = '../project_2_sub/leechuan'  # new folder path\n",
    "os.makedirs(output_folder, exist_ok=True)    # create folder if it doesn't exist\n",
    "\n",
    "\n",
    "def escape_sql(value):\n",
    "    \"\"\"Escape single quotes in a string for SQL.\"\"\"\n",
    "    if value is None:\n",
    "        return ''\n",
    "    return value.replace(\"'\", \"''\")"
   ]
  },
  {
   "cell_type": "code",
   "execution_count": 10,
   "id": "57988cdb",
   "metadata": {},
   "outputs": [
    {
     "name": "stdout",
     "output_type": "stream",
     "text": [
      "Registration INSERT statements saved to registration_output\\registration_inserts.sql\n"
     ]
    }
   ],
   "source": [
    "registration_sql_path = os.path.join(output_folder, 'registration_inserts.sql')\n",
    "\n",
    "with open(registration_sql_path, 'w') as f:  # overwrite if file exists\n",
    "    with open(registration_file, newline='') as csvfile:\n",
    "        reader = csv.DictReader(csvfile)\n",
    "        for row in reader:\n",
    "            phone = row['Phone']\n",
    "            first_name = row['Firstname']\n",
    "            last_name = row['Lastname']\n",
    "            reg_date = row['Date']\n",
    "            reg_time = row['Time']\n",
    "\n",
    "            sql = f\"INSERT INTO registration (phone, first_name, last_name, reg_date, reg_time) \" \\\n",
    "            f\"VALUES ('{escape_sql(phone)}', '{escape_sql(first_name)}', '{escape_sql(last_name)}', '{reg_date}', '{reg_time}');\"\n",
    "            f.write(sql + '\\n')\n",
    "\n",
    "print(f\"Registration INSERT statements saved to {registration_sql_path}\")"
   ]
  },
  {
   "cell_type": "code",
   "execution_count": 11,
   "id": "16f2f424",
   "metadata": {},
   "outputs": [
    {
     "name": "stdout",
     "output_type": "stream",
     "text": [
      "Registration Membership INSERT statements saved to registration_output\\registration_membership_inserts.sql\n"
     ]
    }
   ],
   "source": [
    "membership_sql_path = os.path.join(output_folder, 'registration_membership_inserts.sql')\n",
    "unique_pairs = set()\n",
    "\n",
    "with open(membership_sql_path, 'w') as f:\n",
    "    with open(orders_file, newline='') as csvfile:\n",
    "        reader = csv.DictReader(csvfile)\n",
    "        for row in reader:\n",
    "            phone = row['Phone']\n",
    "            order_id = row['Order']\n",
    "\n",
    "            if phone and (phone, order_id) not in unique_pairs:\n",
    "                unique_pairs.add((phone, order_id))\n",
    "                sql = f\"INSERT INTO registration_membership (phone, orders_id) \" \\\n",
    "                f\"VALUES ('{escape_sql(phone)}', '{escape_sql(order_id)}');\"\n",
    "                f.write(sql + '\\n')\n",
    "\n",
    "print(f\"Registration Membership INSERT statements saved to {membership_sql_path}\")"
   ]
  },
  {
   "cell_type": "markdown",
   "id": "1a09f9f7",
   "metadata": {},
   "source": []
  }
 ],
 "metadata": {
  "kernelspec": {
   "display_name": "Python 3",
   "language": "python",
   "name": "python3"
  },
  "language_info": {
   "codemirror_mode": {
    "name": "ipython",
    "version": 3
   },
   "file_extension": ".py",
   "mimetype": "text/x-python",
   "name": "python",
   "nbconvert_exporter": "python",
   "pygments_lexer": "ipython3",
   "version": "3.11.2"
  }
 },
 "nbformat": 4,
 "nbformat_minor": 5
}
